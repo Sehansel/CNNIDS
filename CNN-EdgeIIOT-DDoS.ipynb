{
 "cells": [
  {
   "cell_type": "code",
   "execution_count": 1,
   "metadata": {},
   "outputs": [],
   "source": [
    "import numpy as np\n",
    "import pandas as pd\n",
    "import matplotlib.pyplot as plt\n",
    "from sklearn import metrics\n",
    "import tensorflow as tf\n",
    "from tensorflow import keras\n",
    "from keras.layers import Dense \n",
    "from keras.models import Sequential\n",
    "from sklearn.model_selection import train_test_split\n",
    "from sklearn.preprocessing import LabelEncoder\n",
    "from sklearn.preprocessing import MinMaxScaler\n",
    "from tensorflow.keras.utils import to_categorical \n",
    "import time\n",
    "import warnings\n",
    "from keras.layers import Dropout, Activation, Flatten, Convolution1D, Dropout\n",
    "from keras.layers import BatchNormalization\n",
    "import datetime as dt\n",
    "from sklearn.metrics import precision_score, recall_score, f1_score, roc_auc_score\n",
    "from sklearn import preprocessing\n",
    "from sklearn.metrics import confusion_matrix, precision_score, recall_score\n",
    "import seaborn as sn"
   ]
  },
  {
   "cell_type": "code",
   "execution_count": 2,
   "metadata": {},
   "outputs": [
    {
     "name": "stdout",
     "output_type": "stream",
     "text": [
      "[PhysicalDevice(name='/physical_device:GPU:0', device_type='GPU')]\n"
     ]
    }
   ],
   "source": [
    "gpus = tf.config.experimental.list_physical_devices('GPU')\n",
    "print(gpus)\n"
   ]
  },
  {
   "cell_type": "code",
   "execution_count": 3,
   "metadata": {},
   "outputs": [
    {
     "name": "stdout",
     "output_type": "stream",
     "text": [
      "Fri Oct 18 17:31:50 2024       \n",
      "+-----------------------------------------------------------------------------------------+\n",
      "| NVIDIA-SMI 556.12                 Driver Version: 556.12         CUDA Version: 12.5     |\n",
      "|-----------------------------------------+------------------------+----------------------+\n",
      "| GPU  Name                  Driver-Model | Bus-Id          Disp.A | Volatile Uncorr. ECC |\n",
      "| Fan  Temp   Perf          Pwr:Usage/Cap |           Memory-Usage | GPU-Util  Compute M. |\n",
      "|                                         |                        |               MIG M. |\n",
      "|=========================================+========================+======================|\n",
      "|   0  NVIDIA GeForce RTX 3050 ...  WDDM  |   00000000:01:00.0 Off |                  N/A |\n",
      "| N/A   51C    P0             11W /   60W |     330MiB /   4096MiB |     21%      Default |\n",
      "|                                         |                        |                  N/A |\n",
      "+-----------------------------------------+------------------------+----------------------+\n",
      "                                                                                         \n",
      "+-----------------------------------------------------------------------------------------+\n",
      "| Processes:                                                                              |\n",
      "|  GPU   GI   CI        PID   Type   Process name                              GPU Memory |\n",
      "|        ID   ID                                                               Usage      |\n",
      "|=========================================================================================|\n",
      "|    0   N/A  N/A     11156    C+G   ...CBS_cw5n1h2txyewy\\TextInputHost.exe      N/A      |\n",
      "|    0   N/A  N/A     15776    C+G   ...3x8\\LenovoVantage\\LenovoVantage.exe      N/A      |\n",
      "|    0   N/A  N/A     19356    C+G   ...on\\129.0.2792.89\\msedgewebview2.exe      N/A      |\n",
      "|    0   N/A  N/A     20364    C+G   ...__8wekyb3d8bbwe\\Notepad\\Notepad.exe      N/A      |\n",
      "|    0   N/A  N/A     21784    C+G   ...les\\Microsoft OneDrive\\OneDrive.exe      N/A      |\n",
      "|    0   N/A  N/A     22432    C+G   ...nt.CBS_cw5n1h2txyewy\\SearchHost.exe      N/A      |\n",
      "|    0   N/A  N/A     25580    C+G   ...__8wekyb3d8bbwe\\WindowsTerminal.exe      N/A      |\n",
      "|    0   N/A  N/A     27848    C+G   ...2txyewy\\StartMenuExperienceHost.exe      N/A      |\n",
      "|    0   N/A  N/A     30680    C+G   ...Programs\\Microsoft VS Code\\Code.exe      N/A      |\n",
      "+-----------------------------------------------------------------------------------------+\n"
     ]
    }
   ],
   "source": [
    "!nvidia-smi"
   ]
  },
  {
   "cell_type": "code",
   "execution_count": 4,
   "metadata": {},
   "outputs": [],
   "source": [
    "df = pd.read_csv('preprocessed_DNN.csv', low_memory=False)"
   ]
  },
  {
   "cell_type": "code",
   "execution_count": 5,
   "metadata": {},
   "outputs": [
    {
     "data": {
      "text/plain": [
       "Attack_type\n",
       "Normal                   1363998\n",
       "DDoS_UDP                  121567\n",
       "DDoS_ICMP                  67939\n",
       "SQL_injection              50826\n",
       "DDoS_TCP                   50062\n",
       "Vulnerability_scanner      50026\n",
       "Password                   49933\n",
       "DDoS_HTTP                  48544\n",
       "Uploading                  36807\n",
       "Backdoor                   24026\n",
       "Port_Scanning              19977\n",
       "XSS                        15066\n",
       "Ransomware                  9689\n",
       "Fingerprinting               853\n",
       "MITM                         358\n",
       "Name: count, dtype: int64"
      ]
     },
     "execution_count": 5,
     "metadata": {},
     "output_type": "execute_result"
    }
   ],
   "source": [
    "df[\"Attack_type\"].value_counts()"
   ]
  },
  {
   "cell_type": "code",
   "execution_count": 6,
   "metadata": {},
   "outputs": [
    {
     "name": "stdout",
     "output_type": "stream",
     "text": [
      "Attack_type\n",
      "Normal       1363998\n",
      "DDoS_UDP      121567\n",
      "DDoS_ICMP      67939\n",
      "DDoS_TCP       50062\n",
      "DDoS_HTTP      48544\n",
      "Name: count, dtype: int64\n"
     ]
    }
   ],
   "source": [
    "# Step 1: Filter the normal data\n",
    "normal_data = df[df['Attack_type'] == 'Normal']\n",
    "\n",
    "# Step 2: Sample 50% of the normal data\n",
    "normal_data_sampled = normal_data.sample(frac=1, random_state=42)\n",
    "\n",
    "# Step 3: Filter out only the DDoS attack types (UDP, ICMP, TCP, HTTP)\n",
    "ddos_data = df[df['Attack_type'].isin(['DDoS_UDP', 'DDoS_ICMP', 'DDoS_TCP', 'DDoS_HTTP'])]\n",
    "\n",
    "# Step 4: Recombine the sampled normal data with the DDoS attack data\n",
    "df = pd.concat([normal_data_sampled, ddos_data], ignore_index=True)\n",
    "\n",
    "# Step 5: Verify the distribution of attack types\n",
    "print(df[\"Attack_type\"].value_counts())\n"
   ]
  },
  {
   "cell_type": "code",
   "execution_count": 7,
   "metadata": {},
   "outputs": [
    {
     "name": "stdout",
     "output_type": "stream",
     "text": [
      "96\n"
     ]
    },
    {
     "data": {
      "text/plain": [
       "['arp.opcode',\n",
       " 'arp.hw.size',\n",
       " 'icmp.checksum',\n",
       " 'icmp.seq_le',\n",
       " 'icmp.unused',\n",
       " 'http.content_length',\n",
       " 'http.response',\n",
       " 'http.tls_port',\n",
       " 'tcp.ack',\n",
       " 'tcp.ack_raw',\n",
       " 'tcp.checksum',\n",
       " 'tcp.connection.fin',\n",
       " 'tcp.connection.rst',\n",
       " 'tcp.connection.syn',\n",
       " 'tcp.connection.synack',\n",
       " 'tcp.flags',\n",
       " 'tcp.flags.ack',\n",
       " 'tcp.len',\n",
       " 'tcp.seq',\n",
       " 'udp.stream',\n",
       " 'udp.time_delta',\n",
       " 'dns.qry.name',\n",
       " 'dns.qry.qu',\n",
       " 'dns.qry.type',\n",
       " 'dns.retransmission',\n",
       " 'dns.retransmit_request',\n",
       " 'dns.retransmit_request_in',\n",
       " 'mqtt.conflag.cleansess',\n",
       " 'mqtt.conflags',\n",
       " 'mqtt.hdrflags',\n",
       " 'mqtt.len',\n",
       " 'mqtt.msg_decoded_as',\n",
       " 'mqtt.msgtype',\n",
       " 'mqtt.proto_len',\n",
       " 'mqtt.topic_len',\n",
       " 'mqtt.ver',\n",
       " 'mbtcp.len',\n",
       " 'mbtcp.trans_id',\n",
       " 'mbtcp.unit_id',\n",
       " 'Attack_label',\n",
       " 'http.request.method-0',\n",
       " 'http.request.method-0.0',\n",
       " 'http.request.method-GET',\n",
       " 'http.request.method-OPTIONS',\n",
       " 'http.request.method-POST',\n",
       " 'http.request.method-PROPFIND',\n",
       " 'http.request.method-PUT',\n",
       " 'http.request.method-SEARCH',\n",
       " 'http.request.method-TRACE',\n",
       " 'http.referer-() { _; } >_[$($())] { echo 93e4r0-CVE-2014-6278: true; echo;echo; }',\n",
       " 'http.referer-0',\n",
       " 'http.referer-0.0',\n",
       " 'http.referer-127.0.0.1',\n",
       " 'http.referer-TESTING_PURPOSES_ONLY',\n",
       " 'http.request.version--a HTTP/1.1',\n",
       " 'http.request.version--al&ABSOLUTE_PATH_STUDIP=http://cirt.net/rfiinc.txt?? HTTP/1.1',\n",
       " 'http.request.version--al&_PHPLIB[libdir]=http://cirt.net/rfiinc.txt?? HTTP/1.1',\n",
       " 'http.request.version-/etc/passwd|?data=Download HTTP/1.1',\n",
       " 'http.request.version-0',\n",
       " 'http.request.version-0.0',\n",
       " 'http.request.version-> HTTP/1.1',\n",
       " 'http.request.version-By Dr HTTP/1.1',\n",
       " 'http.request.version-HTTP/1.0',\n",
       " 'http.request.version-HTTP/1.1',\n",
       " 'http.request.version-Src=javascript:alert(\\'Vulnerable\\')><Img Src=\\\\\" HTTP/1.1',\n",
       " \"http.request.version-name=a><input name=i value=XSS>&lt;script>alert('Vulnerable')</script> HTTP/1.1\",\n",
       " 'http.request.version-script>alert(1)/script><\\\\\" HTTP/1.1',\n",
       " 'dns.qry.name.len-0',\n",
       " 'dns.qry.name.len-0.0',\n",
       " 'dns.qry.name.len-0.debian.pool.ntp.org',\n",
       " 'dns.qry.name.len-1.0',\n",
       " 'dns.qry.name.len-1.debian.pool.ntp.org',\n",
       " 'dns.qry.name.len-2.debian.pool.ntp.org',\n",
       " 'dns.qry.name.len-3.debian.pool.ntp.org',\n",
       " 'dns.qry.name.len-_googlecast._tcp.local',\n",
       " 'dns.qry.name.len-null-null.local',\n",
       " 'dns.qry.name.len-raspberrypi.local',\n",
       " 'mqtt.conack.flags-0',\n",
       " 'mqtt.conack.flags-0.0',\n",
       " 'mqtt.conack.flags-0x00000000',\n",
       " 'mqtt.conack.flags-1461073',\n",
       " 'mqtt.conack.flags-1461074',\n",
       " 'mqtt.conack.flags-1461383',\n",
       " 'mqtt.conack.flags-1461384',\n",
       " 'mqtt.conack.flags-1461589',\n",
       " 'mqtt.conack.flags-1461591',\n",
       " 'mqtt.conack.flags-1471198',\n",
       " 'mqtt.conack.flags-1471199',\n",
       " 'mqtt.conack.flags-1574358',\n",
       " 'mqtt.conack.flags-1574359',\n",
       " 'mqtt.protoname-0',\n",
       " 'mqtt.protoname-0.0',\n",
       " 'mqtt.protoname-MQTT',\n",
       " 'mqtt.topic-0',\n",
       " 'mqtt.topic-0.0',\n",
       " 'mqtt.topic-Temperature_and_Humidity']"
      ]
     },
     "execution_count": 7,
     "metadata": {},
     "output_type": "execute_result"
    }
   ],
   "source": [
    "feat_cols = list(df.columns)\n",
    "label_col = \"Attack_type\"\n",
    "feat_cols.remove(label_col)\n",
    "print(len(feat_cols))\n",
    "feat_cols"
   ]
  },
  {
   "cell_type": "code",
   "execution_count": 68,
   "metadata": {},
   "outputs": [
    {
     "data": {
      "text/plain": [
       "[]"
      ]
     },
     "execution_count": 68,
     "metadata": {},
     "output_type": "execute_result"
    }
   ],
   "source": [
    "empty_cols = [col for col in df.columns if df[col].isnull().all()]\n",
    "empty_cols"
   ]
  },
  {
   "cell_type": "code",
   "execution_count": 8,
   "metadata": {},
   "outputs": [
    {
     "data": {
      "text/plain": [
       "['arp.opcode',\n",
       " 'arp.hw.size',\n",
       " 'icmp.checksum',\n",
       " 'icmp.seq_le',\n",
       " 'icmp.unused',\n",
       " 'http.content_length',\n",
       " 'http.response',\n",
       " 'http.tls_port',\n",
       " 'tcp.ack',\n",
       " 'tcp.ack_raw',\n",
       " 'tcp.checksum',\n",
       " 'tcp.connection.fin',\n",
       " 'tcp.connection.rst',\n",
       " 'tcp.connection.syn',\n",
       " 'tcp.connection.synack',\n",
       " 'tcp.flags',\n",
       " 'tcp.flags.ack',\n",
       " 'tcp.len',\n",
       " 'tcp.seq',\n",
       " 'udp.stream',\n",
       " 'udp.time_delta',\n",
       " 'dns.qry.name',\n",
       " 'dns.qry.qu',\n",
       " 'dns.qry.type',\n",
       " 'dns.retransmission',\n",
       " 'dns.retransmit_request',\n",
       " 'dns.retransmit_request_in',\n",
       " 'mqtt.conflag.cleansess',\n",
       " 'mqtt.conflags',\n",
       " 'mqtt.hdrflags',\n",
       " 'mqtt.len',\n",
       " 'mqtt.msg_decoded_as',\n",
       " 'mqtt.msgtype',\n",
       " 'mqtt.proto_len',\n",
       " 'mqtt.topic_len',\n",
       " 'mqtt.ver',\n",
       " 'mbtcp.len',\n",
       " 'mbtcp.trans_id',\n",
       " 'mbtcp.unit_id',\n",
       " 'Attack_label',\n",
       " 'http.request.method-0',\n",
       " 'http.request.method-0.0',\n",
       " 'http.request.method-GET',\n",
       " 'http.request.method-OPTIONS',\n",
       " 'http.request.method-POST',\n",
       " 'http.request.method-PROPFIND',\n",
       " 'http.request.method-PUT',\n",
       " 'http.request.method-SEARCH',\n",
       " 'http.request.method-TRACE',\n",
       " 'http.referer-() { _; } >_[$($())] { echo 93e4r0-CVE-2014-6278: true; echo;echo; }',\n",
       " 'http.referer-0',\n",
       " 'http.referer-0.0',\n",
       " 'http.referer-127.0.0.1',\n",
       " 'http.referer-TESTING_PURPOSES_ONLY',\n",
       " 'http.request.version--a HTTP/1.1',\n",
       " 'http.request.version--al&ABSOLUTE_PATH_STUDIP=http://cirt.net/rfiinc.txt?? HTTP/1.1',\n",
       " 'http.request.version--al&_PHPLIB[libdir]=http://cirt.net/rfiinc.txt?? HTTP/1.1',\n",
       " 'http.request.version-/etc/passwd|?data=Download HTTP/1.1',\n",
       " 'http.request.version-0',\n",
       " 'http.request.version-0.0',\n",
       " 'http.request.version-> HTTP/1.1',\n",
       " 'http.request.version-By Dr HTTP/1.1',\n",
       " 'http.request.version-HTTP/1.0',\n",
       " 'http.request.version-HTTP/1.1',\n",
       " 'http.request.version-Src=javascript:alert(\\'Vulnerable\\')><Img Src=\\\\\" HTTP/1.1',\n",
       " \"http.request.version-name=a><input name=i value=XSS>&lt;script>alert('Vulnerable')</script> HTTP/1.1\",\n",
       " 'http.request.version-script>alert(1)/script><\\\\\" HTTP/1.1',\n",
       " 'dns.qry.name.len-0',\n",
       " 'dns.qry.name.len-0.0',\n",
       " 'dns.qry.name.len-0.debian.pool.ntp.org',\n",
       " 'dns.qry.name.len-1.0',\n",
       " 'dns.qry.name.len-1.debian.pool.ntp.org',\n",
       " 'dns.qry.name.len-2.debian.pool.ntp.org',\n",
       " 'dns.qry.name.len-3.debian.pool.ntp.org',\n",
       " 'dns.qry.name.len-_googlecast._tcp.local',\n",
       " 'dns.qry.name.len-null-null.local',\n",
       " 'dns.qry.name.len-raspberrypi.local',\n",
       " 'mqtt.conack.flags-0',\n",
       " 'mqtt.conack.flags-0.0',\n",
       " 'mqtt.conack.flags-0x00000000',\n",
       " 'mqtt.conack.flags-1461073',\n",
       " 'mqtt.conack.flags-1461074',\n",
       " 'mqtt.conack.flags-1461383',\n",
       " 'mqtt.conack.flags-1461384',\n",
       " 'mqtt.conack.flags-1461589',\n",
       " 'mqtt.conack.flags-1461591',\n",
       " 'mqtt.conack.flags-1471198',\n",
       " 'mqtt.conack.flags-1471199',\n",
       " 'mqtt.conack.flags-1574358',\n",
       " 'mqtt.conack.flags-1574359',\n",
       " 'mqtt.protoname-0',\n",
       " 'mqtt.protoname-0.0',\n",
       " 'mqtt.protoname-MQTT',\n",
       " 'mqtt.topic-0',\n",
       " 'mqtt.topic-0.0',\n",
       " 'mqtt.topic-Temperature_and_Humidity']"
      ]
     },
     "execution_count": 8,
     "metadata": {},
     "output_type": "execute_result"
    }
   ],
   "source": [
    "feat_cols = list(df.columns)\n",
    "feat_cols.remove(label_col)\n",
    "feat_cols"
   ]
  },
  {
   "cell_type": "code",
   "execution_count": 9,
   "metadata": {},
   "outputs": [],
   "source": [
    "X = df.drop([label_col], axis=1)\n",
    "y = df[label_col]"
   ]
  },
  {
   "cell_type": "code",
   "execution_count": 10,
   "metadata": {},
   "outputs": [],
   "source": [
    "X_train, X_test, y_train, y_test = train_test_split(X, y, test_size=0.25, random_state=1, stratify=y)"
   ]
  },
  {
   "cell_type": "code",
   "execution_count": 11,
   "metadata": {},
   "outputs": [],
   "source": [
    "label_encoder = LabelEncoder()\n",
    "y_train =  label_encoder.fit_transform(y_train)\n",
    "y_test = label_encoder.transform(y_test)"
   ]
  },
  {
   "cell_type": "code",
   "execution_count": 12,
   "metadata": {},
   "outputs": [
    {
     "data": {
      "text/plain": [
       "array(['DDoS_HTTP', 'DDoS_ICMP', 'DDoS_TCP', 'DDoS_UDP', 'Normal'],\n",
       "      dtype=object)"
      ]
     },
     "execution_count": 12,
     "metadata": {},
     "output_type": "execute_result"
    }
   ],
   "source": [
    "label_encoder.classes_"
   ]
  },
  {
   "cell_type": "code",
   "execution_count": 13,
   "metadata": {},
   "outputs": [],
   "source": [
    "min_max_scaler = MinMaxScaler()\n",
    "X_train =  min_max_scaler.fit_transform(X_train)\n",
    "X_test = min_max_scaler.transform(X_test)"
   ]
  },
  {
   "cell_type": "code",
   "execution_count": 14,
   "metadata": {},
   "outputs": [],
   "source": [
    "X_train = X_train.reshape(X_train.shape[0], X_train.shape[1], 1)\n",
    "X_test = X_test.reshape(X_test.shape[0], X_test.shape[1], 1)"
   ]
  },
  {
   "cell_type": "code",
   "execution_count": 15,
   "metadata": {},
   "outputs": [
    {
     "name": "stdout",
     "output_type": "stream",
     "text": [
      "(1239082, 96, 1) (413028, 96, 1)\n",
      "96\n"
     ]
    }
   ],
   "source": [
    "input_shape = X_train.shape[1]\n",
    "print(X_train.shape, X_test.shape)\n",
    "print(input_shape)"
   ]
  },
  {
   "cell_type": "code",
   "execution_count": 16,
   "metadata": {},
   "outputs": [
    {
     "data": {
      "text/plain": [
       "5"
      ]
     },
     "execution_count": 16,
     "metadata": {},
     "output_type": "execute_result"
    }
   ],
   "source": [
    "num_classes = len(np.unique(y_train))\n",
    "num_classes"
   ]
  },
  {
   "cell_type": "code",
   "execution_count": 17,
   "metadata": {},
   "outputs": [],
   "source": [
    "Y_train = to_categorical(y_train, num_classes=num_classes)\n",
    "Y_test = to_categorical(y_test, num_classes=num_classes)"
   ]
  },
  {
   "cell_type": "code",
   "execution_count": 18,
   "metadata": {},
   "outputs": [
    {
     "name": "stdout",
     "output_type": "stream",
     "text": [
      "Model: \"sequential\"\n",
      "_________________________________________________________________\n",
      " Layer (type)                Output Shape              Param #   \n",
      "=================================================================\n",
      " conv1d (Conv1D)             (None, 91, 128)           896       \n",
      "                                                                 \n",
      " batch_normalization (BatchN  (None, 91, 128)          512       \n",
      " ormalization)                                                   \n",
      "                                                                 \n",
      " activation (Activation)     (None, 91, 128)           0         \n",
      "                                                                 \n",
      " conv1d_1 (Conv1D)           (None, 86, 256)           196864    \n",
      "                                                                 \n",
      " batch_normalization_1 (Batc  (None, 86, 256)          1024      \n",
      " hNormalization)                                                 \n",
      "                                                                 \n",
      " activation_1 (Activation)   (None, 86, 256)           0         \n",
      "                                                                 \n",
      " conv1d_2 (Conv1D)           (None, 81, 256)           393472    \n",
      "                                                                 \n",
      " batch_normalization_2 (Batc  (None, 81, 256)          1024      \n",
      " hNormalization)                                                 \n",
      "                                                                 \n",
      " activation_2 (Activation)   (None, 81, 256)           0         \n",
      "                                                                 \n",
      " flatten (Flatten)           (None, 20736)             0         \n",
      "                                                                 \n",
      " dense (Dense)               (None, 256)               5308672   \n",
      "                                                                 \n",
      " dropout (Dropout)           (None, 256)               0         \n",
      "                                                                 \n",
      " dense_1 (Dense)             (None, 5)                 1285      \n",
      "                                                                 \n",
      "=================================================================\n",
      "Total params: 5,903,749\n",
      "Trainable params: 5,902,469\n",
      "Non-trainable params: 1,280\n",
      "_________________________________________________________________\n",
      "Epoch 1/30\n",
      "9681/9681 [==============================] - 253s 25ms/step - loss: 0.0035 - accuracy: 0.9994 - val_loss: 9.1930e-05 - val_accuracy: 1.0000 - lr: 0.0010\n",
      "Epoch 2/30\n",
      "9681/9681 [==============================] - 250s 26ms/step - loss: 4.0535e-04 - accuracy: 0.9999 - val_loss: 3.2985e-04 - val_accuracy: 1.0000 - lr: 0.0010\n",
      "Epoch 3/30\n",
      "9681/9681 [==============================] - 250s 26ms/step - loss: 1.9606e-04 - accuracy: 1.0000 - val_loss: 1.3132e-04 - val_accuracy: 1.0000 - lr: 0.0010\n",
      "Epoch 4/30\n",
      "9681/9681 [==============================] - 250s 26ms/step - loss: 3.3323e-05 - accuracy: 1.0000 - val_loss: 8.7746e-05 - val_accuracy: 1.0000 - lr: 2.0000e-04\n",
      "Epoch 5/30\n",
      "9681/9681 [==============================] - 249s 26ms/step - loss: 1.2140e-05 - accuracy: 1.0000 - val_loss: 9.4514e-05 - val_accuracy: 1.0000 - lr: 2.0000e-04\n",
      "Epoch 6/30\n",
      "9681/9681 [==============================] - 249s 26ms/step - loss: 2.1859e-05 - accuracy: 1.0000 - val_loss: 5.6905e-05 - val_accuracy: 1.0000 - lr: 1.0000e-04\n",
      "Epoch 7/30\n",
      "9681/9681 [==============================] - 249s 26ms/step - loss: 1.4805e-05 - accuracy: 1.0000 - val_loss: 4.3030e-05 - val_accuracy: 1.0000 - lr: 1.0000e-04\n",
      "Epoch 8/30\n",
      "9681/9681 [==============================] - 249s 26ms/step - loss: 9.9657e-06 - accuracy: 1.0000 - val_loss: 5.6055e-05 - val_accuracy: 1.0000 - lr: 1.0000e-04\n",
      "Epoch 9/30\n",
      "9681/9681 [==============================] - 249s 26ms/step - loss: 1.1800e-05 - accuracy: 1.0000 - val_loss: 6.0133e-05 - val_accuracy: 1.0000 - lr: 1.0000e-04\n",
      "Epoch 10/30\n",
      "9681/9681 [==============================] - 249s 26ms/step - loss: 1.5481e-05 - accuracy: 1.0000 - val_loss: 5.0694e-05 - val_accuracy: 1.0000 - lr: 1.0000e-04\n",
      "Epoch 11/30\n",
      "9681/9681 [==============================] - 248s 26ms/step - loss: 1.3463e-05 - accuracy: 1.0000 - val_loss: 6.3350e-05 - val_accuracy: 1.0000 - lr: 1.0000e-04\n",
      "Epoch 12/30\n",
      "9681/9681 [==============================] - 249s 26ms/step - loss: 7.7800e-06 - accuracy: 1.0000 - val_loss: 4.9203e-05 - val_accuracy: 1.0000 - lr: 1.0000e-04\n",
      "Epoch 13/30\n",
      "9681/9681 [==============================] - 249s 26ms/step - loss: 9.5352e-06 - accuracy: 1.0000 - val_loss: 6.1878e-05 - val_accuracy: 1.0000 - lr: 1.0000e-04\n",
      "Epoch 14/30\n",
      "9681/9681 [==============================] - 249s 26ms/step - loss: 9.0284e-06 - accuracy: 1.0000 - val_loss: 4.7088e-05 - val_accuracy: 1.0000 - lr: 1.0000e-04\n",
      "Epoch 15/30\n",
      "9681/9681 [==============================] - 248s 26ms/step - loss: 1.1404e-05 - accuracy: 1.0000 - val_loss: 5.3557e-05 - val_accuracy: 1.0000 - lr: 1.0000e-04\n",
      "Epoch 16/30\n",
      "9681/9681 [==============================] - 248s 26ms/step - loss: 1.2165e-05 - accuracy: 1.0000 - val_loss: 4.4997e-05 - val_accuracy: 1.0000 - lr: 1.0000e-04\n",
      "Epoch 17/30\n",
      "9681/9681 [==============================] - 249s 26ms/step - loss: 2.9965e-05 - accuracy: 1.0000 - val_loss: 4.6740e-05 - val_accuracy: 1.0000 - lr: 1.0000e-04\n"
     ]
    }
   ],
   "source": [
    "# In order to ignore FutureWarning\n",
    "warnings.simplefilter(action='ignore', category=FutureWarning)\n",
    "warnings.simplefilter(action='ignore', category=DeprecationWarning)\n",
    "\n",
    "K = keras.backend\n",
    "\n",
    "input_shape = X_train.shape[1]\n",
    "\n",
    "model = Sequential()\n",
    "model.add(Convolution1D(filters=128, kernel_size=6, input_shape=(input_shape, 1)))\n",
    "model.add(BatchNormalization())\n",
    "model.add(Activation('relu'))\n",
    "model.add(Convolution1D(filters=256, kernel_size=6))\n",
    "model.add(BatchNormalization())\n",
    "model.add(Activation('relu'))\n",
    "model.add(Convolution1D(filters=256, kernel_size=6))\n",
    "model.add(BatchNormalization())\n",
    "model.add(Activation('relu'))\n",
    "model.add(Flatten())\n",
    "model.add(Dense(256, activation='relu'))\n",
    "model.add(Dropout(0.2))\n",
    "model.add(Dense(5, activation='softmax'))\n",
    "model.summary() \n",
    "\n",
    "opt = keras.optimizers.Adam(learning_rate=0.001)\n",
    "model.compile(loss='categorical_crossentropy',optimizer=opt, metrics=['accuracy'])\n",
    "\n",
    "early_stop_callback = keras.callbacks.EarlyStopping(monitor='loss', patience=5)\n",
    "reduce_lr = keras.callbacks.ReduceLROnPlateau(monitor='val_loss', factor=0.2,\n",
    "                                  patience=2, min_lr=0.0001)\n",
    "\n",
    "with tf.device('/CPU:0'):\n",
    "    X_train = tf.convert_to_tensor(X_train)\n",
    "    Y_train = tf.convert_to_tensor(Y_train)\n",
    "    X_test = tf.convert_to_tensor(X_test)\n",
    "    Y_test = tf.convert_to_tensor(Y_test)\n",
    "\n",
    "with tf.device('/GPU:0'):\n",
    "    history = model.fit(X_train, Y_train,\n",
    "                                batch_size=128,\n",
    "                                epochs=30,\n",
    "                                verbose=True, callbacks=[reduce_lr, early_stop_callback],\n",
    "                                validation_data=(X_test, Y_test))  "
   ]
  }
 ],
 "metadata": {
  "kernelspec": {
   "display_name": "tf",
   "language": "python",
   "name": "python3"
  },
  "language_info": {
   "codemirror_mode": {
    "name": "ipython",
    "version": 3
   },
   "file_extension": ".py",
   "mimetype": "text/x-python",
   "name": "python",
   "nbconvert_exporter": "python",
   "pygments_lexer": "ipython3",
   "version": "3.10.15"
  }
 },
 "nbformat": 4,
 "nbformat_minor": 2
}
